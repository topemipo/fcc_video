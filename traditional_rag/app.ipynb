{
 "cells": [
  {
   "cell_type": "code",
   "execution_count": 82,
   "metadata": {},
   "outputs": [],
   "source": [
    "# Import neccesary libraries\n",
    "import os\n",
    "from dotenv import load_dotenv\n",
    "import chromadb\n",
    "from openai import OpenAI\n",
    "from chromadb.utils import embedding_functions"
   ]
  },
  {
   "cell_type": "code",
   "execution_count": 83,
   "metadata": {},
   "outputs": [],
   "source": [
    "# Load environment variables from .env file\n",
    "load_dotenv()\n",
    "openai_key = os.getenv(\"OPENAI_API_KEY\")"
   ]
  },
  {
   "cell_type": "code",
   "execution_count": 84,
   "metadata": {},
   "outputs": [],
   "source": [
    "# load the OpenAI embedding function\n",
    "openai_ef = embedding_functions.OpenAIEmbeddingFunction(\n",
    "    api_key=openai_key, model_name=\"text-embedding-ada-002\")"
   ]
  },
  {
   "cell_type": "code",
   "execution_count": 85,
   "metadata": {},
   "outputs": [],
   "source": [
    "# Initialize the Chroma client with persistence\n",
    "chroma_client = chromadb.PersistentClient(path=\"chroma_persistent_storage\")\n",
    "collection_name = \"document_qa_collection\"\n",
    "collection = chroma_client.get_or_create_collection(\n",
    "    name=collection_name, embedding_function=openai_ef)"
   ]
  },
  {
   "cell_type": "code",
   "execution_count": 86,
   "metadata": {},
   "outputs": [],
   "source": [
    "client = OpenAI(api_key=openai_key)"
   ]
  },
  {
   "cell_type": "code",
   "execution_count": 87,
   "metadata": {},
   "outputs": [],
   "source": [
    "# # Be sure client is running\n",
    "# resp = client.chat.completions.create(\n",
    "#     model=\"gpt-3.5-turbo\",\n",
    "#     messages=[\n",
    "#         {\"role\": \"system\", \"content\": \"You are a helpful assistant.\"},\n",
    "#         {\n",
    "#             \"role\": \"user\",\n",
    "#             \"content\": \"Who is Jesus\",\n",
    "#         },\n",
    "#     ],\n",
    "# )\n",
    "\n",
    "# print(resp.choices[0].message.content)"
   ]
  },
  {
   "cell_type": "code",
   "execution_count": 88,
   "metadata": {},
   "outputs": [],
   "source": [
    "# Function to load documents from a directory\n",
    "def load_documents_from_directory(directory_path):\n",
    "    print(\"==== Loading documents from directory ====\")\n",
    "    documents = []\n",
    "    for filename in os.listdir(directory_path):\n",
    "        if filename.endswith(\".txt\"):\n",
    "            with open(\n",
    "                os.path.join(directory_path, filename), \"r\", encoding=\"utf-8\"\n",
    "            ) as file:\n",
    "                documents.append({\"id\": filename, \"text\": file.read()})\n",
    "    return documents"
   ]
  },
  {
   "cell_type": "code",
   "execution_count": 89,
   "metadata": {},
   "outputs": [
    {
     "name": "stdout",
     "output_type": "stream",
     "text": [
      "==== Loading documents from directory ====\n",
      "Loaded 20 documents\n"
     ]
    }
   ],
   "source": [
    "# Load documents from the directory\n",
    "directory_path = os.getenv(\"20casedocs\")\n",
    "documents = load_documents_from_directory(directory_path)\n",
    "\n",
    "print(f\"Loaded {len(documents)} documents\")"
   ]
  },
  {
   "cell_type": "code",
   "execution_count": 90,
   "metadata": {},
   "outputs": [
    {
     "name": "stdout",
     "output_type": "stream",
     "text": [
      "Split documents into 716 chunks\n"
     ]
    }
   ],
   "source": [
    "# Function to split text into chunks\n",
    "def split_text(text, chunk_size=1000, chunk_overlap=20):\n",
    "    chunks = []\n",
    "    start = 0\n",
    "    while start < len(text):\n",
    "        end = start + chunk_size\n",
    "        chunks.append(text[start:end])\n",
    "        start = end - chunk_overlap\n",
    "    return chunks\n",
    "\n",
    "# Split documents into chunks\n",
    "chunked_documents = []\n",
    "for doc in documents:\n",
    "    chunks = split_text(doc[\"text\"])\n",
    "    #print(\"==== Splitting docs into chunks ====\")\n",
    "    for i, chunk in enumerate(chunks):\n",
    "        chunked_documents.append({\"id\": f\"{doc['id']}_chunk{i+1}\", \"text\": chunk})\n",
    "\n",
    "print(f\"Split documents into {len(chunked_documents)} chunks\")"
   ]
  },
  {
   "cell_type": "code",
   "execution_count": 91,
   "metadata": {},
   "outputs": [
    {
     "data": {
      "text/plain": [
       "{'id': 'C9.txt_chunk1',\n",
       " 'text': \"West Bengal State Electricity Board and Others v Desh Bandhu Ghosh and Others\\nSupreme Court of India\\n\\n26 February 1985\\nCivil Appeal No. 562 of 1985\\nThe Judgment was delivered by : O. Chinnappa Reddy, J.\\nSpecial leave granted.\\n1.  The West Bengal State Electricity Board is the principal appellant in this appeal by special leave which we have just now granted. The first respondent, a permanent employee of the West Bengal State Electricity Board, filed the writ petition out of which the appeal arises in the Calcutta High Court to quash an order dated march 22, 1984 of the Secretary, West Bengal State Electricity Board terminating his services as Deputy Secretary with immediate effect on payment of three month's salary in lieu of three month's notice. The order gave no reasons for terminating the services of the respondent and there was nothing in the order which could possibly be said to attach any stigma to the respondent. Apparently the order was made under Regulation 34 of the Board's \"}"
      ]
     },
     "execution_count": 91,
     "metadata": {},
     "output_type": "execute_result"
    }
   ],
   "source": [
    "chunked_documents[0]"
   ]
  },
  {
   "cell_type": "code",
   "execution_count": 92,
   "metadata": {},
   "outputs": [],
   "source": [
    "# Function to generate embeddings using OpenAI API\n",
    "def get_openai_embedding(text):\n",
    "    response = client.embeddings.create(input=text, model=\"text-embedding-ada-002\")\n",
    "    embedding = response.data[0].embedding\n",
    "    #print(\"==== Generating embeddings... ====\")\n",
    "    return embedding\n",
    "\n",
    "\n",
    "# Generate embeddings for the document chunks\n",
    "for doc in chunked_documents:\n",
    "    #print(\"==== Generating embeddings... ====\")\n",
    "    doc[\"embedding\"] = get_openai_embedding(doc[\"text\"])\n",
    "\n",
    "#print(doc[\"embedding\"])   "
   ]
  },
  {
   "cell_type": "code",
   "execution_count": 93,
   "metadata": {},
   "outputs": [],
   "source": [
    "# Upsert documents with embeddings into Chroma\n",
    "for doc in chunked_documents:\n",
    "    # print(\"==== Inserting chunks into db;;; ====\")\n",
    "    collection.upsert(\n",
    "        ids=[doc[\"id\"]], documents=[doc[\"text\"]], embeddings=[doc[\"embedding\"]])"
   ]
  },
  {
   "cell_type": "code",
   "execution_count": 94,
   "metadata": {},
   "outputs": [
    {
     "name": "stdout",
     "output_type": "stream",
     "text": [
      "Document: anding crops in the field. The view of the Trial Court, having regard to the aforementioned facts and circumstances of the case, was, therefore, a possible view and as such we need not go into the other contentions as regards the motive or time of death, vis- -vis, the medical opinion etc.\n",
      "49. For the reasons mentioned hereinbefore, we are of the opinion that the High Court was not correct in arriving at the conclusion that the view of the Trial Court was wholly perverse and could not be sustained on the materials brought on record by the prosecution. This appeal is, therefore, allowed.\n",
      "50. The impugned judgment of the High Court is set aside. The appellants are on bails. They are discharged from their bail bonds.\n",
      "\n"
     ]
    },
    {
     "ename": "TypeError",
     "evalue": "'NoneType' object is not subscriptable",
     "output_type": "error",
     "traceback": [
      "\u001b[0;31m---------------------------------------------------------------------------\u001b[0m",
      "\u001b[0;31mTypeError\u001b[0m                                 Traceback (most recent call last)",
      "Cell \u001b[0;32mIn[94], line 4\u001b[0m\n\u001b[1;32m      2\u001b[0m retrieved_data \u001b[38;5;241m=\u001b[39m collection\u001b[38;5;241m.\u001b[39mget(ids\u001b[38;5;241m=\u001b[39m[doc[\u001b[38;5;124m\"\u001b[39m\u001b[38;5;124mid\u001b[39m\u001b[38;5;124m\"\u001b[39m]])  \u001b[38;5;66;03m# Retrieve by ID\u001b[39;00m\n\u001b[1;32m      3\u001b[0m \u001b[38;5;28mprint\u001b[39m(\u001b[38;5;124m\"\u001b[39m\u001b[38;5;124mDocument:\u001b[39m\u001b[38;5;124m\"\u001b[39m, retrieved_data[\u001b[38;5;124m\"\u001b[39m\u001b[38;5;124mdocuments\u001b[39m\u001b[38;5;124m\"\u001b[39m][\u001b[38;5;241m0\u001b[39m])\n\u001b[0;32m----> 4\u001b[0m \u001b[38;5;28mprint\u001b[39m(\u001b[38;5;124m\"\u001b[39m\u001b[38;5;124mEmbedding:\u001b[39m\u001b[38;5;124m\"\u001b[39m, \u001b[43mretrieved_data\u001b[49m\u001b[43m[\u001b[49m\u001b[38;5;124;43m\"\u001b[39;49m\u001b[38;5;124;43membeddings\u001b[39;49m\u001b[38;5;124;43m\"\u001b[39;49m\u001b[43m]\u001b[49m\u001b[43m[\u001b[49m\u001b[38;5;241;43m0\u001b[39;49m\u001b[43m]\u001b[49m) \n",
      "\u001b[0;31mTypeError\u001b[0m: 'NoneType' object is not subscriptable"
     ]
    }
   ],
   "source": [
    "# Retrieve a document from the collection\n",
    "retrieved_data = collection.get(ids=[doc[\"id\"]])  # Retrieve by ID\n",
    "print(\"Document:\", retrieved_data[\"documents\"][0])\n",
    "print(\"Embedding:\", retrieved_data[\"embeddings\"][0]) "
   ]
  },
  {
   "cell_type": "code",
   "execution_count": 95,
   "metadata": {},
   "outputs": [],
   "source": [
    "# Function to query documents\n",
    "def query_documents(question, n_results=20):\n",
    "    # query_embedding = get_openai_embedding(question)\n",
    "    results = collection.query(query_texts=question, n_results=n_results)\n",
    "\n",
    "    # Extract the relevant chunks\n",
    "    relevant_chunks = [doc for sublist in results[\"documents\"] for doc in sublist]\n",
    "    print(\"==== Returning relevant chunks ====\")\n",
    "    return relevant_chunks"
   ]
  },
  {
   "cell_type": "code",
   "execution_count": 96,
   "metadata": {},
   "outputs": [],
   "source": [
    "def generate_response(question, relevant_chunks):\n",
    "    context = \"\\n\\n\".join(relevant_chunks)\n",
    "    prompt = (\n",
    "        \"You are a legal assistant trained to provide clear, structured, and empathetic responses to legal queries. \"\n",
    "        \"When a user asks a question, respond in a conversational and straightforward manner, providing information in this structure:\\n\\n\"\n",
    "        \"1. **Empathetic Acknowledgment:** Start by acknowledging the user’s situation in a compassionate tone. Avoid legal jargon in this part.\\n\\n\"\n",
    "        \"2. **Legal Context:** Provide a simple explanation of the legal principles relevant to the query. Use clear, accessible language.\\n\\n\"\n",
    "        \"3. **Case Example:** Retrieve and summarize a case relevant to the user’s query. Include the following details:\\n\"\n",
    "        \"   - **Case Name:** The title of the case, listing the parties involved.\\n\"\n",
    "        \"   - **Court:** The name of the court where the judgment was delivered.\\n\"\n",
    "        \"   - **Date:** The date the judgment was delivered.\\n\"\n",
    "        \"   - **Case Reference Number:** The unique identifier for the case, such as appeal or writ number.\\n\"\n",
    "        \"   - **Judgment Author:** The name of the judge or judges who delivered the judgment.\\n\"\n",
    "        \"   - **Case Summary:** Include a brief description of the facts, legal issue, and decision in the case, tailored to how it relates to the user's situation.\\n\\n\"\n",
    "        \"4. **Steps the User Can Take:** Offer 3-5 clear and practical steps that the user can follow to address their issue. Ensure these steps are actionable and easy to understand.\\n\\n\"\n",
    "        \"5. **Additional Resources:** Provide links or references to relevant laws, legal bodies, or official documentation for further exploration.\\n\\n\"\n",
    "        \"Ensure the response is concise and written in plain language, making it easy to follow and understand.\\n\\n\"\n",
    "        \"Example Query Input:\\n\"\n",
    "        \"I believe I was wrongfully terminated from my job. What can I do?\\n\\n\"\n",
    "        \"Example Response Format:\\n\"\n",
    "        \"I'm sorry to hear about your situation. In the UK, if you believe you've been wrongfully dismissed, you have the right to challenge your employer's decision. Wrongful dismissal occurs when an employer breaches the terms of your employment contract, such as dismissing you without the proper notice period.\\n\\n\"\n",
    "        \"**Case Example: Sekander v Rocketmill Ltd**\\n\"\n",
    "        \"A relevant case is Sekander v Rocketmill Ltd (ET/2301645/2016), where Mr. Sekander was both wrongfully and unfairly dismissed. He began working for Rocketmill Ltd in 2010 as a web designer. In 2013, he entered into a Service Agreement that required him to work for ten years before realizing the market value of his shareholding, unless terminated for gross misconduct. Despite this agreement, Mr. Sekander was dismissed on allegations of gross misconduct. The Employment Tribunal found that the employer did not have sufficient grounds for gross misconduct and had breached the contractual terms, leading to a ruling in favor of Mr. Sekander for both wrongful and unfair dismissal.\\n\\n\"\n",
    "        \"**Steps You Can Take:**\\n\"\n",
    "        \"1. Review your employment contract to understand notice periods and dismissal procedures.\\n\"\n",
    "        \"2. Gather evidence, such as communications, performance reviews, or dismissal letters.\\n\"\n",
    "        \"3. Seek legal advice from an employment law solicitor.\\n\"\n",
    "        \"4. Notify ACAS for Early Conciliation to resolve the dispute.\\n\"\n",
    "        \"5. File a claim with an employment tribunal within three months of dismissal.\\n\\n\"\n",
    "        \"For more information, you can refer to the UK government’s employment tribunal website.\\n\\n\"\n",
    "        \"Context:\\n\" + context + \"\\n\\nQuestion:\\n\" + question\n",
    "    )\n",
    "\n",
    "    response = client.chat.completions.create(\n",
    "        model=\"gpt-3.5-turbo\",\n",
    "        messages=[\n",
    "            {\n",
    "                \"role\": \"system\",\n",
    "                \"content\": prompt,\n",
    "            },\n",
    "            {\n",
    "                \"role\": \"user\",\n",
    "                \"content\": question,\n",
    "            },\n",
    "        ],\n",
    "    )\n",
    "\n",
    "    answer = response.choices[0].message\n",
    "    return answer\n"
   ]
  },
  {
   "cell_type": "code",
   "execution_count": 102,
   "metadata": {},
   "outputs": [
    {
     "name": "stdout",
     "output_type": "stream",
     "text": [
      "==== Returning relevant chunks ====\n",
      "ChatCompletionMessage(content=\"I'm sorry to hear about what happened to you. In legal terms, when there is an agreement where someone owes you something, and in case of non-payment, you have a right to confiscate their valuable item, but they take everything valuable, you might be facing a situation of unfair dealing and a breach of agreement. This might constitute a fraudulent or dishonest intention to cheat you.\\n\\n**Case Example: State of Jharkhand vs. Infrasoft Ltd.**\\n- **Court:** Supreme Court of India\\n- **Date:** January 15, 2019\\n- **Case Reference Number:** Criminal Appeal No. 234/2018\\n- **Judgment Author:** Honorable Justice K.S. Radhakrishnan\\n- **Case Summary:** In this case, Infrasoft Ltd. entered into an agreement with the State of Jharkhand regarding the supply of materials for a public project. Infrasoft Ltd. received the goods but failed to pay the agreed amount under the contract. The State of Jharkhand was allowed by the contract to take possession or payment equal to the value of the goods. However, upon investigation, it was found that Infrasoft Ltd. had removed all valuables before the State's intervention, leaving the goods substantially devalued.\\n\\n**Steps You Can Take:**\\n1. Review the original agreement to understand the exact terms and conditions.\\n2. Collect evidence such as written communication, the initial value of the item, and what has been removed.\\n3. Consider negotiating with the person first to address the issue amicably.\\n4. If needed, seek legal advice to understand your options and the best legal course of action.\\n5. Consider mediation or dispute resolution services to potentially resolve the matter without going to court.\\n\\n**Additional Resources:**\\n- Seek advice from a local attorney familiar with contract law.\\n- Check with your jurisdiction's consumer protection or small claims court for guidance on dispute resolution.\", role='assistant', function_call=None, tool_calls=None, refusal=None)\n"
     ]
    }
   ],
   "source": [
    "question = \"Someone played a fast one on me. We had a na agreement that if they fall short in paying what they owe me, i would confiscate their item of value but they took everything that was valuable out of it. I feel cheated because the item has no vlaue again\"\n",
    "relevant_chunks = query_documents(question)\n",
    "answer = generate_response(question, relevant_chunks)\n",
    "\n",
    "print(answer)"
   ]
  },
  {
   "cell_type": "code",
   "execution_count": 100,
   "metadata": {},
   "outputs": [
    {
     "data": {
      "text/plain": [
       "['le to the lands in suit and directing the respondents who were the appellants\\' benamidars to restore possession, this Court, after discussing the English and Indian law on the subject, said :\\n\"The correct position in law, in our opinion, is that what one has to see is whether the illegality goes so much to the root of the matter that the plaintiff cannot bring his action without relying upon the illegal transaction into which he had entered. If the illegality be trivial or venial, as stated by Willistone and the plaintiff is not required to rest his case upon that illegality, then public policy demands that the defendant should not be allowed to take advantage of the position. A strict view, of course, must be taken of the plaintiff\\'s conduct, and he should not be allowed to circumvent the illegality by restoring to some subterfuge or by mis-stating the facts. If, however, the matter is clear and the illegality is not required to be pleaded or proved as part of the cause of action and ',\n",
       " 'ments and compelled to institute the suit against her father and brother claiming exclusive right over the landed property in order to grab the said property, that this conduct of the accused should have been resented by the deceased and that on that score the accused should have decided to put an end to her life. In our view, this submission has no merit because there is no acceptable evidence showing that there was any quarrel in the family and that the deceased was ill-treated either by her husband or in-laws. The appellate Court while dealing with this aspect of the case has observed that there is no evidence that the accused ill-treated the deceased, which observation we have extracted above. Hence, we hold that there is no sufficient material to warrant a conclusion that the accused had any motive to snatch away the life thread of deceased. There is no denying the fact that the deceased did not accompany her husband and in-laws to attend the marriage celebrated in the house of PW',\n",
       " 'er promised to pay half the claim amount Jain would allow his claim petition in full.\\nHowever, after two days when the petitioner threatened to make complaint against Jain he changed his decision from dismissal to allowing the petition and awarded Rs. 12,000 as compensation. Second charge was that while acting as Additional District and Sessions Judge, Jind changed his judgment with some ulterior motive. Third charge was that without awaiting the orders of the High Court he got shifted his official telephone from office to his residence and got STD facility thereon, thus committing financial irregularity in an irresponsible manner and being guilty of insubordination. Fourth charge related to seven land acquisition cases where it was alleged that with some ulterior motive he got deposited an amount of Rs. 2 laces in two banks at Delhi through the decree-holder, who belonged to Jind after obtaining their statements under the duress. Fifth charge related to the cases conducted by Shri K.C',\n",
       " \"omaripalem. The appellant is the resident of Rayavaram. At the time of the marriage, the appellant gave sufficient cash and gold to the deceased. As the deceased was aged about 12 years at the time of her marriage she stayed with her parents till she attained her puberty and thereafter was sent to her marital home. The case of the prosecution is that the deceased used to complain to her father and that her husband and in-laws were pressing hard to get some landed property towards her dowry. When the appellant made enquiries about her daughter's complaints, the accused abused and tried to beat him.\\n5. In 1985 during the second crop season, the accused 1, 2 and 4 along with the deceased forcibly harvested the crop standing in the land of the appellant. It is stated that the deceased even went to the extent of filing a suit against her father, the appellant (P.W. 8) and brother (P.W. 9) claiming that the land in dispute was in her possession. Her brother P.W. 9 in turn filed a suit agains\",\n",
       " 'r the appellant had suddenly disappeared from the house of P.W. 3 with the gold ornaments and other valuables, there was a frantic search made by P.W. 25, Sreenivasa Rao and P.W. 26 Abdul Mazeed at various places and he was absconding till March 29, 1980 until he was apprehended by P.W. 26 at village Hosahally in Hosakote taluk at about 2 p.m. On being arrested after a year of the incident on March 29, 1980, the appellant made the statement Ex. P-35 leading to the recovery of some of the stolen gold ornaments of the deceased and her six silk sarees from different places and they have all been identified by P.Ws. 2, 3 and 4 as belonging to the deceased.\\nThe appellant falsely denied the recoveries and could offer no explanation for his possession of the stolen articles.\\nIt appears from the prosecution evidence that after the commission of the murder and robbery, the appellant had with him the incriminating articles and taken them to his native place Mattakur where he disposed them of to ',\n",
       " 'Other legal systems also permit judicial review of a contractual transaction entered into in similar circumstances. For example, i s. 138(2) of the German Civil Code provides that a , transaction is void \"when a person\" exploits \"the distressed q situation, inexperience, lack of judgmental ability, or grave weakness of will of another to obtain the grant or promise of pecuniary advantages . . . which are obviously disproportionate to the performance given in return.\" The position according to the French law is very much the same.\\n104. Should then our courts not advance with the times? Should they still continue to cling to outmoded concepts and outworn ideologies? Should we not adjust our thinking caps to match the fashion of the day? Should all jurisprudential development pass us by, leaving us floundering in the sloughs of nineteenth-century theories? Should the strong be permitted to push the weak to the wall? Should they be allowed to ride roughshod over the weak? Should the courts',\n",
       " ' 2 years or with fine or both. The basic requirement for attracting the section are:\\n\"(i) the movable property in question should belong to a person other than the accused;\\n(ii) the accused should wrongly appropriate or convert such property to his own use; and\\n(iii) there should be dishonest intention on the part of the accused.\"\\n32. Here again the basic requirement is that the subject matter of dishonest misappropriation or conversion should be someone else\\'s movable property. When NEPC India owns/possesses the aircraft, it obviously cannot \\'misappropriate or convert to its own use\\' such aircraft or parts thereof. Therefore s. 403 is also not attracted. Section 405\\n33.  We will next consider whether the allegations in the complaint make out a case of criminal breach of trust u/s. 405 which is extracted below :\\n\"405. Criminal breach of trust. Whoever, being in any manner entrusted with property, or with any dominion over property, dishonestly misappropriates or converts to his own use',\n",
       " 'ghts are infringed and violated and whose grievance go unnoticed, un- represented and unheard; yet we cannot avoid but express our opinion that while genuine litigants with legitimate grievances relating to civil matters involving properties worth hundreds of millions of rupees and substantial rights and criminal cases in which persons sentenced to death facing gallows under untold agony and persons sentenced to life imprisonment and kept in incarceration for long years, persons suffering from undue delay in service matters government or private, persons awaiting the disposal of tax cases wherein huge amounts of public revenue or unauthorized collection of tax amounts are locked up, detenu expecting their release from the detention orders etc. etc.\\n24. Are all standing in a long serpentine queue for years with the fond hope of getting into the Courts and having their grievances redressed, the busy bodies, meddlesome interlopers, wayfarers or officious interveners having absolutely no r',\n",
       " ' to the police station. No role had been attributed to the said accused. It is not clear as to why he was implicated. He did not have any dispute with the deceased, namely, Ram Gopal and Chatarvati. The prosecution did not lead any evidence as to why he would join the appellant Nos. 1 and 2 in commission of the crime. Similarly, appellant Nos. 3 and 4 were cousins. Except making a statement that they had been carrying some country made pistols and fired from their respective weapons, no evidence has been brought on record to that effect. We also fail to understand as to why the Investigating Officer, who took over the investigation from P.W. 7 and who had investigated only for 8 days, had not been examined. No explanation whatsoever has been offered by the prosecution in this regard.\\n48. The version of the prosecution is that the lands belonging to P.Ws. 2 and 3 were half a kilometer away and they do not have any field near the field of the deceased. There was no standing crops in the ',\n",
       " 'ile no one with a legitimate cause or grievance should be prevented from seeking remedies available in criminal law, a complainant who initiates or persists with a prosecution, being fully aware that the criminal proceedings are unwarranted and his remedy lies only in civil law, should himself be made accountable, at the end of such misconceived criminal proceedings, in accordance with law.One positive step that can be taken by the courts, to curb unnecessary prosecutions and harassment of innocent parties, is to exercise their power u/s. 250 Cr.P.C. more frequently, where they discern malice or frivolousness or ulterior motives on the part of the complainant. Be that as it may.\\n21.  Coming to the facts of this case, it is no doubt true that IOC has initiated several civil proceedings to safeguard its interests and recover the amounts due. It has filed C.S. No.425/1997 in the Madras High Court and O.S. No.3327/1998 in the City Civil Court, Chennai seeking injunctive reliefs to restrain',\n",
       " 'petition to state that according to P.W. 2, his statements had not been taken by P.W. 7 under Section 161 Cr.P.C. It is interesting to note what P.W. 7 in his evidence stated :\\n\"...I cannot tell about the distance between the place where the dead body of Chatarvati was found and the road which goes towards village from fields which had been shown in site plan, as I had not measured the aforesaid distance. I had not seen the fields of witnesses Veer Singh, Chetram, Shiv Singh & Savan Singh from where after completion of their work they had reached at the place of occurrence. I cannot tell the length of the field having trees belonging to Meer Hasan which is South to the field of witness Chetram, it is very long. No marks of blood was found between the place HD and \\'G\\'. There was heavy crowd in the night.\"\\n47. We may notice that admittedly the accused No. 6 was not carrying any weapon. He admittedly had a dispute with Veer Singh. Veer Singh accompanied the complainant to the police stati',\n",
       " 'n full agreement with the concurrent findings of the Courts below that it is a clear case of murder.\\n15.  The next important question is whether the circumstances attending case do satisfactorily and unerringly establish the guilt of the accused 1 and 3 or any of them so as to incriminate them with the heinous crime of murder and the offence of cruelty within the mischief of Section 498-A, I.P.C. The learned counsel appearing on behalf of the appellant seeks to draw an inference of guilt of the accused on the following circumstances:\\n(1) The demand of the deceased requesting her father to settle the landed property in her name and her subsequent filing of the civil suit in the year 1985 i.e. within a period of 6 years since her marriage indicate that the accused should have pressurised the deceased to take a hostile attitude towards her father so that they could grab the property.\\n(2) The very fact that the deceased who was in her prime of youth did not accompany her husband and in law',\n",
       " 'er seizure memo Ex. P-15. The seized articles have all been identified by P.W. 3 Makrappa and his mother P.W. 2 Smt. Bayamma and son P.W. 4. G.M. Prakash as belonging to the deceased.\\n4. The appellant abjured his guilt and denied the commission of the alleged offence stating that he had been falsely implicated. He also denied that he ever made the statement Ex. P-35 or that the stolen articles were recovered as a direct consequence to such statement.\\n5. In cases in which the evidence is purely of a circumstantial nature, the facts and circumstances from which the conclusion of guilt is sought to be drawn must be fully established beyond any reasonable doubt and the fact and circumstances should not only be consistent with the guilt of the accused but they must be in their effect as to be entirely incompatible with the innocence of the accused and must exclude every reasonable hypothesis consistent with his innocence. The chain of circumstances brought out by the prosecution are these:\\n',\n",
       " 'gation and it was filed because of personal and political rivalry and ought to have been dismissed by the High Court.\\n10. The assertion that appellant and respondent No.4 were pitted against each other in several elections has not been denied. Even the Punjab Government has as back as on 22.6.1981 issued a Circular that only records of conviction for preceding five years were to be taken note of.\\n11.  Learned counsel appearing for the Market Committee supported the stand of the appellant and submitted that there was nothing irregular in the appointment of the appellant and the same was in terms of the rules of appointment. Learned counsel for the respondent No. 4, writ petitioner however, submitted that merely because the writ petition was filed after fourteen years and because there was some personal differences that cannot dilute the public interest element involved in the writ petition.\\n12. It was further submitted that notwithstanding the clear direction of the High Court to start ',\n",
       " \"rn the case and fix another date to facilitate the appearance of the accused/appellant if his lawyer is not present. If the lawyer is absent, and the court deems it appropriate to appoint a lawyer at State expense to assist it, there is nothing in the law to preclude it from doing so. We are, therefore, of the opinion and we say so with respect, that the Division Bench which decided Ram Naresh Yadav's case did not apply the provisions of Sections 385-386 of the Code correctly when it indicated that the Appellate Court was under an obligation to adjourn the case to another date if the appellant or his lawyer remained absent.\\n17. Such a view can bring about a stalemate situation. The appellant and his lawyer can remain absent with impunity, not once but again and again till the Court issues a warrant for the appellant's presence. A complaint to the Bar Council against the lawyer for non-appearance cannot result in the progress of the appeal. If another lawyer is appointed at State cost, \",\n",
       " \" filed a suit against the deceased and P.W. 8. The appellant filed a criminal complaint against the deceased and the accused persons. Thus, there were civil and criminal proceedings between the parties.\\n6.  On the intervening night of 6/7th September, 1985 the accused 1 to 3 are said to have attended the marriage celebrated in the house of P.W. 1 and remained in the marriage house till morning of 7th September and when they came back to their house they, to their shock and surprise, found number of people gathered in front of their house and the body of the deceased lying in an easy chair. The fourth accused who is not a respondent in this appeal went to the police station and gave the report Ex. 14 to the Head Constable. Some nail marks and swelling over the neck, lips, chin and nose were noticed on the dead body. A tin covered with a cap and pasted with a label inscribed 'Democran' (i.e. pesticide) was found by the side of the dead body. The fourth accused stated in Ex. P-14 that the\",\n",
       " \" provisions, the same was to be sent through the Circle Officer. The State has not offered any explanation as to why the Circle Officer, a post held by an officer of the rank of Deputy Superintendent of Police, would not act responsibly. Section 157 Cr.P.C. as also Article 21 of the Constitution of India provide for a safeguard in such a manner directing that FIR should be sent to the Court of Chief Judicial Magistrate within a period of 24 hours.\\n19. The learned Trial Judge further was of the opinion that the copy of the FIR had not been served upon the complainant P.W 1 forthwith and the signature of the informant had also not been obtained in chik report . There was no reason as to why Rajveer Singh was not sent for medical examination immediately after registration of the case, although the Primary Health Centre was situated nearby the police station. The Trial Judge further noticed that 'chiti mazroobi' had not been sent from the police station to examine the injured. Such a 'chit\",\n",
       " 'ember 30, 1982 the High Court dismissed the civil revision petition of the petitioner and granted time till 31st of January, 1983 for the petitioner to vacate the premises in question. The petitioner thereafter filed a special leave petition against the judgment and order of the High Court in this Court.\\n3. This Court initially ordered show cause notice and also granted ad interim ex-parte stay of dispossession. On 29th January, 1983 the City Civil Court, Madras granted interim injunction restraining the respondents from demolishing the building till the disposal of the application in the suit filed by the petitioner against the erstwhile owner and the present landlords for specific performance of an agreement to sell the premises to the petitioner. According to the petitioner the injunction was confirmed and was still continuing and the said suit for specific performance was also pending in the City Civil Court, Madras.\\n4.  On 17th of February, 1986 this Court dismissed the special le',\n",
       " ' not lodged at the time it is alleged to have been recorded, unless, of course the prosecution can offer a satisfactory explanation for the delay in despatching or receipt of the copy of the FIR by the local Magistrate. Prosecution has led no evidence at all in this behalf. The second external check equally important is the sending of the copy of the FIR along with the dead body and its reference in the inquest report. Even though the inquest report, prepared under Section 174 Cr.P.C., is aimed at serving a statutory function, to lend credence to the prosecution case, the details of the FIR and the gist of statements recorded during inquest proceedings get reflected in the report. The absence of those details is indicative of the fact that the prosecution story was still in an embryo state and had not been given any shape and that the FIR came to be recorded later on after due deliberations and consultations and was then ante-time to give it the colour of a promptly lodged FIR. In our ',\n",
       " 'ices (Punishment and Appeal) Rules, 1970 and principles of natural justice, had been conducted against him. It came to the conclusion that the decision to retire Jain was founded on the allegation of misconduct which was subject-matter of inquiry and formed the basis of adverse remarks made by the inspecting judge and the Full Court. Then it proceeded to hold as under :-\\n\"We do find some substance in the argument of Shri Jain that the rejection of his representation against the adverse remarks does not satisfy the test of fairness because no reasons have been recorded by the High Court for not accepting the points and contentions raised in the representation and the record also does not show the existence of such reasons, we do not want to express any conclusive opinion on this issue because even after invalidation of the pre-mature retirement of the petitioner, the departmental inquiries can be continued and the fate of the remarks made in his ACR of 1991-92 will ultimately depend on ']"
      ]
     },
     "execution_count": 100,
     "metadata": {},
     "output_type": "execute_result"
    }
   ],
   "source": [
    "relevant_chunks\n"
   ]
  }
 ],
 "metadata": {
  "kernelspec": {
   "display_name": "venv",
   "language": "python",
   "name": "python3"
  },
  "language_info": {
   "codemirror_mode": {
    "name": "ipython",
    "version": 3
   },
   "file_extension": ".py",
   "mimetype": "text/x-python",
   "name": "python",
   "nbconvert_exporter": "python",
   "pygments_lexer": "ipython3",
   "version": "3.11.6"
  }
 },
 "nbformat": 4,
 "nbformat_minor": 2
}
