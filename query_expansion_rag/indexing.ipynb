{
 "cells": [
  {
   "cell_type": "markdown",
   "metadata": {},
   "source": [
    "**<h1>Import all Neccesary Libraires and Modules</h1>**"
   ]
  },
  {
   "cell_type": "code",
   "execution_count": 10,
   "metadata": {},
   "outputs": [],
   "source": [
    "import os\n",
    "import glob\n",
    "from dotenv import load_dotenv\n",
    "\n",
    "from openai import OpenAI\n",
    "import tiktoken\n",
    "\n",
    "import chromadb\n",
    "from chromadb.utils.embedding_functions import OpenAIEmbeddingFunction\n",
    "from chromadb.utils import embedding_functions\n",
    "\n",
    "from langchain.text_splitter import RecursiveCharacterTextSplitter\n"
   ]
  },
  {
   "cell_type": "code",
   "execution_count": 11,
   "metadata": {},
   "outputs": [],
   "source": [
    "load_dotenv()\n",
    "openai_key = os.getenv(\"OPENAI_API_KEY\")\n",
    "client = OpenAI(api_key=openai_key)"
   ]
  },
  {
   "cell_type": "markdown",
   "metadata": {},
   "source": [
    "**<h1>Load in Data</h1>**"
   ]
  },
  {
   "cell_type": "code",
   "execution_count": 12,
   "metadata": {},
   "outputs": [],
   "source": [
    "# Ensure folder_path points to the directory and includes a wildcard for files\n",
    "def load_text_files(folder_path):\n",
    "    \"\"\"Loads all text files from a given directory.\"\"\"\n",
    "    all_text = []\n",
    "    for filepath in glob.glob(folder_path):\n",
    "        if os.path.isfile(filepath):\n",
    "            with open(filepath, \"r\", encoding=\"utf-8\") as f:\n",
    "                text = f.read().strip()\n",
    "                if text:\n",
    "                    all_text.append({\"text\": text, \"source\": os.path.basename(filepath)})\n",
    "\n",
    "    return all_text"
   ]
  },
  {
   "cell_type": "code",
   "execution_count": 13,
   "metadata": {},
   "outputs": [],
   "source": [
    "# implementation\n",
    "folder_path = os.path.join(os.getenv(\"20casedocs\"), \"*.txt\")\n",
    "all_texts = load_text_files(folder_path)"
   ]
  },
  {
   "cell_type": "markdown",
   "metadata": {},
   "source": [
    "**<h1>Chunking</h1>**"
   ]
  },
  {
   "cell_type": "code",
   "execution_count": 14,
   "metadata": {},
   "outputs": [],
   "source": [
    "# chunking\n",
    "\n",
    "def chunk_casedocs(all_texts, chunk_size=8100, chunk_overlap=500):\n",
    "    \"\"\"\n",
    "    Splits a list of text entries into chunks using a token-aware text splitter.\n",
    "\n",
    "    Args:\n",
    "        all_texts (list of dict): List of dictionaries containing \"text\" and \"source\" keys.\n",
    "        chunk_size (int): Maximum size of each chunk in tokens. Default is 8100.\n",
    "        chunk_overlap (int): Overlap between chunks in tokens. Default is 500.\n",
    "\n",
    "    Returns:\n",
    "        list of dict: List of chunked texts with metadata, including source and token count.\n",
    "    \"\"\"\n",
    "    # Initialize OpenAI tokenizer\n",
    "    tokenizer = tiktoken.get_encoding(\"cl100k_base\")  # Correct for text-embedding-ada-002\n",
    "\n",
    "    # Configure the text splitter\n",
    "    optimized_splitter = RecursiveCharacterTextSplitter(\n",
    "        separators=[\"\\n\\n\\n\", \"\\n\\n\", \"\\n\", \". \", \" \", \"\"],  # Prioritize document structure\n",
    "        chunk_size=chunk_size,  # Adjustable chunk size\n",
    "        chunk_overlap=chunk_overlap,  # Adjustable overlap\n",
    "        length_function=lambda text: len(tokenizer.encode(text)),  # Exact token count\n",
    "        is_separator_regex=False\n",
    "    )\n",
    "\n",
    "    chunked_texts = []\n",
    "    for doc_index, entry in enumerate(all_texts):\n",
    "        # Split the text into chunks\n",
    "        chunks = optimized_splitter.split_text(entry[\"text\"])\n",
    "        \n",
    "        # Add chunks with metadata\n",
    "        for chunk_index, chunk in enumerate(chunks):\n",
    "            chunked_texts.append({\n",
    "                \"id\": f\"doc_{doc_index}_chunk_{chunk_index}\",\n",
    "                \"text\": chunk,\n",
    "                \"metadata\": {\n",
    "                    \"source\": entry[\"source\"],\n",
    "                    \"token_count\": len(tokenizer.encode(chunk))  # Optional but useful\n",
    "                }\n",
    "            })\n",
    "    \n",
    "    return chunked_texts\n"
   ]
  },
  {
   "cell_type": "code",
   "execution_count": 15,
   "metadata": {},
   "outputs": [
    {
     "name": "stdout",
     "output_type": "stream",
     "text": [
      "Total chunked segments: 36\n",
      "Max tokens in any chunk: 8016\n"
     ]
    }
   ],
   "source": [
    "# implementation\n",
    "chunked_texts = chunk_casedocs(all_texts)\n",
    "print(f\"Total chunked segments: {len(chunked_texts)}\") \n",
    "\n",
    "tokenizer = tiktoken.get_encoding(\"cl100k_base\")\n",
    "print(f\"Max tokens in any chunk: {max(len(tokenizer.encode(chunk['text'])) for chunk in chunked_texts)}\")"
   ]
  },
  {
   "cell_type": "markdown",
   "metadata": {},
   "source": [
    "**<h1>Embedding</h1>**"
   ]
  },
  {
   "cell_type": "code",
   "execution_count": 16,
   "metadata": {},
   "outputs": [],
   "source": [
    "# embedding\n",
    "\n",
    "def add_to_chroma_collection(chunked_texts, openai_key, collection_name=\"case-docs-collection\"):\n",
    "    \"\"\"\n",
    "    Adds chunked texts to a Chroma collection with OpenAI embeddings, ensuring the collection exists.\n",
    "\n",
    "    Args:\n",
    "        chunked_texts (list of dict): List of dictionaries containing \"id\", \"text\", and \"metadata\".\n",
    "        openai_key (str): OpenAI API key for the embedding function.\n",
    "        collection_name (str): Name of the Chroma collection. Default is \"case-docs-collection\".\n",
    "\n",
    "    Returns:\n",
    "        chromadb.Collection: The Chroma collection with the added documents.\n",
    "    \"\"\"\n",
    "    # Initialize OpenAI embedding function\n",
    "    embedding_function = embedding_functions.OpenAIEmbeddingFunction(\n",
    "        api_key=openai_key,\n",
    "        model_name=\"text-embedding-ada-002\"\n",
    "    )\n",
    "    \n",
    "    # Initialize Chroma client\n",
    "    chroma_client = chromadb.PersistentClient(path=\"database\")\n",
    "    \n",
    "    # Check if collection already exists\n",
    "    existing_collections = [col.name for col in chroma_client.list_collections()]\n",
    "    \n",
    "    if collection_name in existing_collections:\n",
    "        chroma_collection = chroma_client.get_collection(collection_name)\n",
    "    else:\n",
    "        chroma_collection = chroma_client.create_collection(\n",
    "            name=collection_name,\n",
    "            embedding_function=embedding_function  # Attach the OpenAI embedder\n",
    "        )\n",
    "    \n",
    "    # Prepare data for Chroma\n",
    "    ids = [item[\"id\"] for item in chunked_texts]\n",
    "    documents = [item[\"text\"] for item in chunked_texts]\n",
    "    metadatas = [item[\"metadata\"] for item in chunked_texts]\n",
    "\n",
    "    # Add to Chroma collection\n",
    "    chroma_collection.add(\n",
    "        ids=ids,\n",
    "        documents=documents,\n",
    "        metadatas=metadatas\n",
    "    )\n",
    "\n",
    "    return chroma_collection\n"
   ]
  },
  {
   "cell_type": "code",
   "execution_count": 17,
   "metadata": {},
   "outputs": [],
   "source": [
    "# implementation\n",
    "add_to_chroma_collection(chunked_texts, openai_key)"
   ]
  },
  {
   "cell_type": "code",
   "execution_count": 19,
   "metadata": {},
   "outputs": [
    {
     "name": "stdout",
     "output_type": "stream",
     "text": [
      "case-docs-collection\n"
     ]
    }
   ],
   "source": [
    "db_path = os.getenv(\"databasepath\")\n",
    "\n",
    "\n",
    "client = chromadb.PersistentClient(path=db_path)\n",
    "collections = client.list_collections()\n",
    "\n",
    "for collection in collections:\n",
    "    print(collection.name)"
   ]
  }
 ],
 "metadata": {
  "kernelspec": {
   "display_name": "venv",
   "language": "python",
   "name": "python3"
  },
  "language_info": {
   "codemirror_mode": {
    "name": "ipython",
    "version": 3
   },
   "file_extension": ".py",
   "mimetype": "text/x-python",
   "name": "python",
   "nbconvert_exporter": "python",
   "pygments_lexer": "ipython3",
   "version": "3.11.6"
  }
 },
 "nbformat": 4,
 "nbformat_minor": 2
}
